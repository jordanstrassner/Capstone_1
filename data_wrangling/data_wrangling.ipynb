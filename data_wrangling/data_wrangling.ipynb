{
  "cells": [
    {
      "metadata": {
        "trusted": true
      },
      "cell_type": "code",
      "source": "!pip install fuzzywuzzy\n!pip install python-Levenshtein\nimport pandas as pd\nimport numpy as np\n#import sqlite3\nfrom fuzzywuzzy import fuzz",
      "execution_count": 1,
      "outputs": [
        {
          "output_type": "stream",
          "text": "Collecting fuzzywuzzy\n  Downloading https://files.pythonhosted.org/packages/43/ff/74f23998ad2f93b945c0309f825be92e04e0348e062026998b5eefef4c33/fuzzywuzzy-0.18.0-py2.py3-none-any.whl\nInstalling collected packages: fuzzywuzzy\nSuccessfully installed fuzzywuzzy-0.18.0\n\u001b[33mWARNING: You are using pip version 19.3.1; however, version 20.0.2 is available.\nYou should consider upgrading via the 'pip install --upgrade pip' command.\u001b[0m\nCollecting python-Levenshtein\n\u001b[?25l  Downloading https://files.pythonhosted.org/packages/42/a9/d1785c85ebf9b7dfacd08938dd028209c34a0ea3b1bcdb895208bd40a67d/python-Levenshtein-0.12.0.tar.gz (48kB)\n\u001b[K     |████████████████████████████████| 51kB 533kB/s eta 0:00:01\n\u001b[?25hRequirement already satisfied: setuptools in /home/nbuser/anaconda3_420/lib/python3.5/site-packages (from python-Levenshtein) (41.6.0)\nBuilding wheels for collected packages: python-Levenshtein\n  Building wheel for python-Levenshtein (setup.py) ... \u001b[?25ldone\n\u001b[?25h  Created wheel for python-Levenshtein: filename=python_Levenshtein-0.12.0-cp35-cp35m-linux_x86_64.whl size=152477 sha256=0ecc467c663d63d8ac2a718b718b746bf41f17a260d0dfb64260331659cd9975\n  Stored in directory: /home/nbuser/.cache/pip/wheels/de/c2/93/660fd5f7559049268ad2dc6d81c4e39e9e36518766eaf7e342\nSuccessfully built python-Levenshtein\nInstalling collected packages: python-Levenshtein\nSuccessfully installed python-Levenshtein-0.12.0\n\u001b[33mWARNING: You are using pip version 19.3.1; however, version 20.0.2 is available.\nYou should consider upgrading via the 'pip install --upgrade pip' command.\u001b[0m\n",
          "name": "stdout"
        }
      ]
    },
    {
      "metadata": {
        "scrolled": true,
        "trusted": true
      },
      "cell_type": "code",
      "source": "#read necessary tables from sqlite database to pd.Dataframes\n'''con = sqlite3.connect('european_soccer_data.sqlite')\nmatch_table = pd.read_sql_query('SELECT * from Match', con)\nteam_table = pd.read_sql_query('SELECT * from Team', con)\ncountry_table = pd.read_sql_query('SELECT * from Country', con)\ncon.close()'''\n\n#write to csv to make future edits easier to start\n'''match_csv = match_table.to_csv('match.csv', index=False)\nteam_csv = team_table.to_csv('team.csv', index=False)\ncountry_csv = country_table.to_csv('country.csv', index=False)'''\n\n#read csv to pd.Dataframe\n#match_df = pd.read_csv('match.csv')\nteam_df = pd.read_csv('team.csv')\ncountry_df = pd.read_csv('country.csv')",
      "execution_count": 2,
      "outputs": []
    },
    {
      "metadata": {
        "trusted": true
      },
      "cell_type": "code",
      "source": "country_df.head()",
      "execution_count": null,
      "outputs": []
    },
    {
      "metadata": {
        "trusted": true
      },
      "cell_type": "code",
      "source": "team_df.head()",
      "execution_count": null,
      "outputs": []
    },
    {
      "metadata": {
        "trusted": true
      },
      "cell_type": "code",
      "source": "match_df.head()",
      "execution_count": null,
      "outputs": []
    },
    {
      "metadata": {
        "trusted": true
      },
      "cell_type": "code",
      "source": "#manual league name dict for leagues of interest, small dataset so manual works\nleague_name_dict = {'England':'Premier League', 'France':'Ligue 1', 'Germany':'1 Bundesliga', 'Italy':'Serie A',\n                    'Netherlands':'Eredivisie', 'Portugal':'Liga Nos', 'Spain':'Primera Division'}\n\n#add league name column to country_df\ncountry_df['league_name'] = ''\nfor i, row in country_df.iterrows():\n    league_name = 'NA'\n    if row['name'] in league_name_dict.keys():\n        league_name = league_name_dict[row['name']]\n    country_df.at[i, 'league_name'] = league_name\n\n#subset country_df to leagues I have match data for\ncountry_df = country_df[country_df.league_name != 'NA'].reset_index(drop=True)\ncountry_df",
      "execution_count": null,
      "outputs": []
    },
    {
      "metadata": {
        "scrolled": false,
        "trusted": true
      },
      "cell_type": "code",
      "source": "#create dict of {team id: team name} and {country id: league name} which will be used to create new columns in match_df\nteam_id_dict = pd.Series(team_df.team_long_name.values, index=team_df.team_api_id).to_dict()\ncountry_id_dict = pd.Series(country_df.league_name.values, index=country_df.id).to_dict()",
      "execution_count": null,
      "outputs": []
    },
    {
      "metadata": {
        "trusted": true
      },
      "cell_type": "code",
      "source": "#add empty column to specific index in match_df, can't run this code multiple times, comment out\nmatch_df.insert(7, 'home_team_name', ['' for i in range(match_df.shape[0])])\nmatch_df.insert(8, 'away_team_name', ['' for i in range(match_df.shape[0])])\nmatch_df.insert(3, 'league_name', ['' for i in range(match_df.shape[0])])\n\nfor i, row in match_df.iterrows():\n    league_name = 'NA'\n    if row['country_id'] in country_id_dict.keys():\n        league_name = country_id_dict[row['country_id']]\n    match_df.at[i, 'league_name'] = league_name\n\n#subset match_df to leagues I have transfer data for\nmatch_df = match_df[match_df.league_name != 'NA'].reset_index(drop=True)\n\nfor i, row in match_df.iterrows():\n    match_df.at[i, 'home_team_name'] = team_id_dict[row['home_team_api_id']]\n    match_df.at[i, 'away_team_name'] = team_id_dict[row['away_team_api_id']]\n\nmatch_df.head()",
      "execution_count": null,
      "outputs": []
    },
    {
      "metadata": {
        "trusted": true
      },
      "cell_type": "code",
      "source": "#removing some unnecessary columns, can only run once, comment out\nfor i in range(1,12):\n    match_df = match_df.drop(['home_player_X'+str(i),'away_player_X'+str(i),'home_player_Y'+str(i),\n                              'away_player_Y'+str(i),'home_player_'+str(i),'away_player_'+str(i)], axis=1)\n\nfor column in match_df.columns[-30:]:\n    match_df = match_df.drop(column, axis=1)\n\nmatch_df = match_df.drop(['country_id', 'id'], axis=1)\n\nprint(match_df.shape)\nprint([column for column in match_df.columns])\nmatch_df.head()",
      "execution_count": null,
      "outputs": []
    },
    {
      "metadata": {
        "trusted": true
      },
      "cell_type": "code",
      "source": "#edit season column to int of start year rather than string of years, ex. 2008 refers to 2008/2009 season\nmatch_df.season = match_df.season.apply(lambda x : int(x[:4]))\nmatch_df.head()",
      "execution_count": null,
      "outputs": []
    },
    {
      "metadata": {
        "trusted": true
      },
      "cell_type": "code",
      "source": "#add home team win, loss, draw columns\nmatch_df.insert(10, 'home_win', [False for i in range(match_df.shape[0])])\nmatch_df.insert(11, 'away_win', [False for i in range(match_df.shape[0])])\nmatch_df.insert(12, 'draw', [False for i in range(match_df.shape[0])])",
      "execution_count": null,
      "outputs": []
    },
    {
      "metadata": {
        "trusted": true
      },
      "cell_type": "code",
      "source": "#loop through rows, update win, loss, draw columns to True where necessary\nfor i, row in match_df.iterrows():\n    if row['home_team_goal'] > row['away_team_goal']:\n        match_df.at[i, 'home_win'] = True\n    elif row['home_team_goal'] < row['away_team_goal']:\n        match_df.at[i, 'away_win'] = True\n    else:\n        match_df.at[i, 'draw'] = True\n\nmatch_df[['home_team_goal', 'away_team_goal', 'home_win', 'away_win', 'draw']].head()",
      "execution_count": null,
      "outputs": []
    },
    {
      "metadata": {
        "trusted": true
      },
      "cell_type": "code",
      "source": "#sort match_df by league, season, stage\nmatch_df = match_df.groupby(['season', 'league_name']).apply(lambda x: x.sort_values(['stage'])).reset_index(drop=True)\nmatch_df.head(50)",
      "execution_count": null,
      "outputs": []
    },
    {
      "metadata": {
        "trusted": true
      },
      "cell_type": "code",
      "source": "#match_clean_csv = match_df.to_csv('match_clean.csv')\nmatch_df_clean = pd.read_csv('match_clean.csv')",
      "execution_count": 3,
      "outputs": []
    },
    {
      "metadata": {
        "trusted": true
      },
      "cell_type": "code",
      "source": "def get_league_table(season, league_name): # returns dataframe of end of season table for given year, league\n    season_df = match_df_clean[(match_df_clean['league_name']==league_name) & (match_df_clean['season']==season)] #subset match_df to specified season, league\n    \n    league_table_df = pd.DataFrame(0, columns=['Wins', 'Draws', 'Losses', 'Goals_For', 'Goals_Against', 'Goal_Difference', 'Points'],\n                                   index=season_df['home_team_name'].unique()).rename_axis('Team') #initialize every column to zero, team names as indices\n        \n    for i, row in season_df.iterrows(): #update goals for/against, win/loss/draw columns\n        league_table_df.loc[row['home_team_name'], 'Goals_For'] += row['home_team_goal']\n        league_table_df.loc[row['home_team_name'], 'Goals_Against'] += row['away_team_goal']\n        league_table_df.loc[row['away_team_name'], 'Goals_For'] += row['away_team_goal']\n        league_table_df.loc[row['away_team_name'], 'Goals_Against'] += row['home_team_goal']\n        \n        if row['home_win'] == True:\n            league_table_df.loc[row['home_team_name'], 'Wins'] += 1\n            league_table_df.loc[row['away_team_name'], 'Losses'] += 1\n        elif row['away_win'] == True:\n            league_table_df.loc[row['home_team_name'], 'Losses'] += 1\n            league_table_df.loc[row['away_team_name'], 'Wins'] += 1\n        else:\n            league_table_df.loc[row['home_team_name'], 'Draws'] += 1\n            league_table_df.loc[row['away_team_name'], 'Draws'] += 1\n        \n    league_table_df['Goal_Difference'] = league_table_df['Goals_For'] - league_table_df['Goals_Against']\n    league_table_df['Points'] = league_table_df['Wins']*3 + league_table_df['Draws']\n    league_table_df = league_table_df.sort_values(['Points', 'Goal_Difference'], ascending=False).reset_index()\n    league_table_df.index = pd.RangeIndex(start=1, stop=len(league_table_df)+1, step=1)\n    \n    return league_table_df\n\nget_league_table(2008, 'Premier League')",
      "execution_count": 4,
      "outputs": [
        {
          "output_type": "execute_result",
          "execution_count": 4,
          "data": {
            "text/plain": "                    Team  Wins  Draws  Losses  Goals_For  Goals_Against  \\\n1      Manchester United    28      6       4         68             24   \n2           Liverpool FC    25     11       2         77             27   \n3             Chelsea FC    25      8       5         68             24   \n4             Arsenal FC    20     12       6         68             37   \n5             Everton FC    17     12       9         55             37   \n6            Aston Villa    17     11      10         54             48   \n7              Fulham FC    14     11      13         39             34   \n8      Tottenham Hotspur    14      9      15         45             45   \n9        West Ham United    14      9      15         42             45   \n10       Manchester City    15      5      18         58             50   \n11        Wigan Athletic    12      9      17         34             45   \n12            Stoke City    12      9      17         38             55   \n13      Bolton Wanderers    11      8      19         41             53   \n14         Portsmouth FC    10     11      17         38             57   \n15      Blackburn Rovers    10     11      17         40             60   \n16        Sunderland AFC     9      9      20         34             54   \n17             Hull City     8     11      19         39             64   \n18      Newcastle United     7     13      18         40             59   \n19      Middlesbrough FC     7     11      20         28             57   \n20  West Bromwich Albion     8      8      22         36             67   \n\n    Goal_Difference  Points  \n1                44      90  \n2                50      86  \n3                44      83  \n4                31      72  \n5                18      63  \n6                 6      62  \n7                 5      53  \n8                 0      51  \n9                -3      51  \n10                8      50  \n11              -11      45  \n12              -17      45  \n13              -12      41  \n14              -19      41  \n15              -20      41  \n16              -20      36  \n17              -25      35  \n18              -19      34  \n19              -29      32  \n20              -31      32  ",
            "text/html": "<div>\n<table border=\"1\" class=\"dataframe\">\n  <thead>\n    <tr style=\"text-align: right;\">\n      <th></th>\n      <th>Team</th>\n      <th>Wins</th>\n      <th>Draws</th>\n      <th>Losses</th>\n      <th>Goals_For</th>\n      <th>Goals_Against</th>\n      <th>Goal_Difference</th>\n      <th>Points</th>\n    </tr>\n  </thead>\n  <tbody>\n    <tr>\n      <th>1</th>\n      <td>Manchester United</td>\n      <td>28</td>\n      <td>6</td>\n      <td>4</td>\n      <td>68</td>\n      <td>24</td>\n      <td>44</td>\n      <td>90</td>\n    </tr>\n    <tr>\n      <th>2</th>\n      <td>Liverpool FC</td>\n      <td>25</td>\n      <td>11</td>\n      <td>2</td>\n      <td>77</td>\n      <td>27</td>\n      <td>50</td>\n      <td>86</td>\n    </tr>\n    <tr>\n      <th>3</th>\n      <td>Chelsea FC</td>\n      <td>25</td>\n      <td>8</td>\n      <td>5</td>\n      <td>68</td>\n      <td>24</td>\n      <td>44</td>\n      <td>83</td>\n    </tr>\n    <tr>\n      <th>4</th>\n      <td>Arsenal FC</td>\n      <td>20</td>\n      <td>12</td>\n      <td>6</td>\n      <td>68</td>\n      <td>37</td>\n      <td>31</td>\n      <td>72</td>\n    </tr>\n    <tr>\n      <th>5</th>\n      <td>Everton FC</td>\n      <td>17</td>\n      <td>12</td>\n      <td>9</td>\n      <td>55</td>\n      <td>37</td>\n      <td>18</td>\n      <td>63</td>\n    </tr>\n    <tr>\n      <th>6</th>\n      <td>Aston Villa</td>\n      <td>17</td>\n      <td>11</td>\n      <td>10</td>\n      <td>54</td>\n      <td>48</td>\n      <td>6</td>\n      <td>62</td>\n    </tr>\n    <tr>\n      <th>7</th>\n      <td>Fulham FC</td>\n      <td>14</td>\n      <td>11</td>\n      <td>13</td>\n      <td>39</td>\n      <td>34</td>\n      <td>5</td>\n      <td>53</td>\n    </tr>\n    <tr>\n      <th>8</th>\n      <td>Tottenham Hotspur</td>\n      <td>14</td>\n      <td>9</td>\n      <td>15</td>\n      <td>45</td>\n      <td>45</td>\n      <td>0</td>\n      <td>51</td>\n    </tr>\n    <tr>\n      <th>9</th>\n      <td>West Ham United</td>\n      <td>14</td>\n      <td>9</td>\n      <td>15</td>\n      <td>42</td>\n      <td>45</td>\n      <td>-3</td>\n      <td>51</td>\n    </tr>\n    <tr>\n      <th>10</th>\n      <td>Manchester City</td>\n      <td>15</td>\n      <td>5</td>\n      <td>18</td>\n      <td>58</td>\n      <td>50</td>\n      <td>8</td>\n      <td>50</td>\n    </tr>\n    <tr>\n      <th>11</th>\n      <td>Wigan Athletic</td>\n      <td>12</td>\n      <td>9</td>\n      <td>17</td>\n      <td>34</td>\n      <td>45</td>\n      <td>-11</td>\n      <td>45</td>\n    </tr>\n    <tr>\n      <th>12</th>\n      <td>Stoke City</td>\n      <td>12</td>\n      <td>9</td>\n      <td>17</td>\n      <td>38</td>\n      <td>55</td>\n      <td>-17</td>\n      <td>45</td>\n    </tr>\n    <tr>\n      <th>13</th>\n      <td>Bolton Wanderers</td>\n      <td>11</td>\n      <td>8</td>\n      <td>19</td>\n      <td>41</td>\n      <td>53</td>\n      <td>-12</td>\n      <td>41</td>\n    </tr>\n    <tr>\n      <th>14</th>\n      <td>Portsmouth FC</td>\n      <td>10</td>\n      <td>11</td>\n      <td>17</td>\n      <td>38</td>\n      <td>57</td>\n      <td>-19</td>\n      <td>41</td>\n    </tr>\n    <tr>\n      <th>15</th>\n      <td>Blackburn Rovers</td>\n      <td>10</td>\n      <td>11</td>\n      <td>17</td>\n      <td>40</td>\n      <td>60</td>\n      <td>-20</td>\n      <td>41</td>\n    </tr>\n    <tr>\n      <th>16</th>\n      <td>Sunderland AFC</td>\n      <td>9</td>\n      <td>9</td>\n      <td>20</td>\n      <td>34</td>\n      <td>54</td>\n      <td>-20</td>\n      <td>36</td>\n    </tr>\n    <tr>\n      <th>17</th>\n      <td>Hull City</td>\n      <td>8</td>\n      <td>11</td>\n      <td>19</td>\n      <td>39</td>\n      <td>64</td>\n      <td>-25</td>\n      <td>35</td>\n    </tr>\n    <tr>\n      <th>18</th>\n      <td>Newcastle United</td>\n      <td>7</td>\n      <td>13</td>\n      <td>18</td>\n      <td>40</td>\n      <td>59</td>\n      <td>-19</td>\n      <td>34</td>\n    </tr>\n    <tr>\n      <th>19</th>\n      <td>Middlesbrough FC</td>\n      <td>7</td>\n      <td>11</td>\n      <td>20</td>\n      <td>28</td>\n      <td>57</td>\n      <td>-29</td>\n      <td>32</td>\n    </tr>\n    <tr>\n      <th>20</th>\n      <td>West Bromwich Albion</td>\n      <td>8</td>\n      <td>8</td>\n      <td>22</td>\n      <td>36</td>\n      <td>67</td>\n      <td>-31</td>\n      <td>32</td>\n    </tr>\n  </tbody>\n</table>\n</div>"
          },
          "metadata": {}
        }
      ]
    },
    {
      "metadata": {
        "trusted": true
      },
      "cell_type": "code",
      "source": "#returns league finish of given team at end of given season\ndef get_league_finish(season, team_name):\n    league = match_df_clean.league_name[match_df_clean.home_team_name==team_name].tolist()[0]\n    league_table = get_league_table(season, league)\n    finish = league_table[league_table['Team'] == team_name].index.values.astype(int)[0]\n    return finish\n\nget_league_finish(2008, 'Arsenal FC')",
      "execution_count": 5,
      "outputs": [
        {
          "output_type": "execute_result",
          "execution_count": 5,
          "data": {
            "text/plain": "4"
          },
          "metadata": {}
        }
      ]
    },
    {
      "metadata": {
        "trusted": true
      },
      "cell_type": "code",
      "source": "",
      "execution_count": null,
      "outputs": []
    },
    {
      "metadata": {
        "trusted": true
      },
      "cell_type": "code",
      "source": "filenames = ['dutch_eredivisie.csv', 'english_premier_league.csv', 'french_ligue_1.csv', 'german_bundesliga_1.csv',\n                'italian_serie_a.csv', 'portugese_liga_nos.csv', 'spanish_primera_division.csv']\n\ntransfers_df_list = []\n\nfor i in range(2007, 2017):\n    for file in filenames:\n        df = pd.read_csv('transfer_data/'+str(i)+'/'+file)\n        df.insert(0, 'club_api_id', '')\n        transfers_df_list.append(df)\n\ntransfers_df = pd.concat(transfers_df_list).reset_index(drop=True)\n\ntransfers_df.head()",
      "execution_count": 6,
      "outputs": [
        {
          "output_type": "execute_result",
          "execution_count": 6,
          "data": {
            "text/plain": "  club_api_id      club_name       player_name   age        position  \\\n0              PSV Eindhoven  Danny Koevermans  28.0  Centre-Forward   \n1              PSV Eindhoven     Danko Lazovic  24.0  Second Striker   \n2              PSV Eindhoven  Balázs Dzsudzsák  21.0     Left Winger   \n3              PSV Eindhoven            Cássio  20.0      Goalkeeper   \n4              PSV Eindhoven     Kenneth Pérez  32.0  Centre-Forward   \n\n  club_involved_name     fee transfer_movement  fee_cleaned league_name  year  \\\n0         AZ Alkmaar  £6.21m                in         6.21  Eredivisie  2007   \n1            Vitesse  £5.40m                in         5.40  Eredivisie  2007   \n2           Debrecen  £2.25m                in         2.25  Eredivisie  2007   \n3             Grêmio   £900k                in         0.90  Eredivisie  2007   \n4               Ajax   £900k                in         0.90  Eredivisie  2007   \n\n      season  \n0  2007/2008  \n1  2007/2008  \n2  2007/2008  \n3  2007/2008  \n4  2007/2008  ",
            "text/html": "<div>\n<table border=\"1\" class=\"dataframe\">\n  <thead>\n    <tr style=\"text-align: right;\">\n      <th></th>\n      <th>club_api_id</th>\n      <th>club_name</th>\n      <th>player_name</th>\n      <th>age</th>\n      <th>position</th>\n      <th>club_involved_name</th>\n      <th>fee</th>\n      <th>transfer_movement</th>\n      <th>fee_cleaned</th>\n      <th>league_name</th>\n      <th>year</th>\n      <th>season</th>\n    </tr>\n  </thead>\n  <tbody>\n    <tr>\n      <th>0</th>\n      <td></td>\n      <td>PSV Eindhoven</td>\n      <td>Danny Koevermans</td>\n      <td>28.0</td>\n      <td>Centre-Forward</td>\n      <td>AZ Alkmaar</td>\n      <td>£6.21m</td>\n      <td>in</td>\n      <td>6.21</td>\n      <td>Eredivisie</td>\n      <td>2007</td>\n      <td>2007/2008</td>\n    </tr>\n    <tr>\n      <th>1</th>\n      <td></td>\n      <td>PSV Eindhoven</td>\n      <td>Danko Lazovic</td>\n      <td>24.0</td>\n      <td>Second Striker</td>\n      <td>Vitesse</td>\n      <td>£5.40m</td>\n      <td>in</td>\n      <td>5.40</td>\n      <td>Eredivisie</td>\n      <td>2007</td>\n      <td>2007/2008</td>\n    </tr>\n    <tr>\n      <th>2</th>\n      <td></td>\n      <td>PSV Eindhoven</td>\n      <td>Balázs Dzsudzsák</td>\n      <td>21.0</td>\n      <td>Left Winger</td>\n      <td>Debrecen</td>\n      <td>£2.25m</td>\n      <td>in</td>\n      <td>2.25</td>\n      <td>Eredivisie</td>\n      <td>2007</td>\n      <td>2007/2008</td>\n    </tr>\n    <tr>\n      <th>3</th>\n      <td></td>\n      <td>PSV Eindhoven</td>\n      <td>Cássio</td>\n      <td>20.0</td>\n      <td>Goalkeeper</td>\n      <td>Grêmio</td>\n      <td>£900k</td>\n      <td>in</td>\n      <td>0.90</td>\n      <td>Eredivisie</td>\n      <td>2007</td>\n      <td>2007/2008</td>\n    </tr>\n    <tr>\n      <th>4</th>\n      <td></td>\n      <td>PSV Eindhoven</td>\n      <td>Kenneth Pérez</td>\n      <td>32.0</td>\n      <td>Centre-Forward</td>\n      <td>Ajax</td>\n      <td>£900k</td>\n      <td>in</td>\n      <td>0.90</td>\n      <td>Eredivisie</td>\n      <td>2007</td>\n      <td>2007/2008</td>\n    </tr>\n  </tbody>\n</table>\n</div>"
          },
          "metadata": {}
        }
      ]
    },
    {
      "metadata": {
        "trusted": true
      },
      "cell_type": "code",
      "source": "transfers_df.rename(columns={'fee_cleaned':'fee_cleaned_millions'}, inplace=True)\ntransfers_in = transfers_df[transfers_df['transfer_movement'] == 'in'] #subset purchases\ntransfers_out = transfers_df[transfers_df['transfer_movement'] == 'out'] #subset sales\n\ntransfers_in.head()",
      "execution_count": 15,
      "outputs": [
        {
          "output_type": "execute_result",
          "execution_count": 15,
          "data": {
            "text/plain": "  club_api_id      club_name       player_name   age        position  \\\n0              PSV Eindhoven  Danny Koevermans  28.0  Centre-Forward   \n1              PSV Eindhoven     Danko Lazovic  24.0  Second Striker   \n2              PSV Eindhoven  Balázs Dzsudzsák  21.0     Left Winger   \n3              PSV Eindhoven            Cássio  20.0      Goalkeeper   \n4              PSV Eindhoven     Kenneth Pérez  32.0  Centre-Forward   \n\n  club_involved_name     fee transfer_movement  fee_cleaned_millions  \\\n0         AZ Alkmaar  £6.21m                in                  6.21   \n1            Vitesse  £5.40m                in                  5.40   \n2           Debrecen  £2.25m                in                  2.25   \n3             Grêmio   £900k                in                  0.90   \n4               Ajax   £900k                in                  0.90   \n\n  league_name  year     season  \n0  Eredivisie  2007  2007/2008  \n1  Eredivisie  2007  2007/2008  \n2  Eredivisie  2007  2007/2008  \n3  Eredivisie  2007  2007/2008  \n4  Eredivisie  2007  2007/2008  ",
            "text/html": "<div>\n<table border=\"1\" class=\"dataframe\">\n  <thead>\n    <tr style=\"text-align: right;\">\n      <th></th>\n      <th>club_api_id</th>\n      <th>club_name</th>\n      <th>player_name</th>\n      <th>age</th>\n      <th>position</th>\n      <th>club_involved_name</th>\n      <th>fee</th>\n      <th>transfer_movement</th>\n      <th>fee_cleaned_millions</th>\n      <th>league_name</th>\n      <th>year</th>\n      <th>season</th>\n    </tr>\n  </thead>\n  <tbody>\n    <tr>\n      <th>0</th>\n      <td></td>\n      <td>PSV Eindhoven</td>\n      <td>Danny Koevermans</td>\n      <td>28.0</td>\n      <td>Centre-Forward</td>\n      <td>AZ Alkmaar</td>\n      <td>£6.21m</td>\n      <td>in</td>\n      <td>6.21</td>\n      <td>Eredivisie</td>\n      <td>2007</td>\n      <td>2007/2008</td>\n    </tr>\n    <tr>\n      <th>1</th>\n      <td></td>\n      <td>PSV Eindhoven</td>\n      <td>Danko Lazovic</td>\n      <td>24.0</td>\n      <td>Second Striker</td>\n      <td>Vitesse</td>\n      <td>£5.40m</td>\n      <td>in</td>\n      <td>5.40</td>\n      <td>Eredivisie</td>\n      <td>2007</td>\n      <td>2007/2008</td>\n    </tr>\n    <tr>\n      <th>2</th>\n      <td></td>\n      <td>PSV Eindhoven</td>\n      <td>Balázs Dzsudzsák</td>\n      <td>21.0</td>\n      <td>Left Winger</td>\n      <td>Debrecen</td>\n      <td>£2.25m</td>\n      <td>in</td>\n      <td>2.25</td>\n      <td>Eredivisie</td>\n      <td>2007</td>\n      <td>2007/2008</td>\n    </tr>\n    <tr>\n      <th>3</th>\n      <td></td>\n      <td>PSV Eindhoven</td>\n      <td>Cássio</td>\n      <td>20.0</td>\n      <td>Goalkeeper</td>\n      <td>Grêmio</td>\n      <td>£900k</td>\n      <td>in</td>\n      <td>0.90</td>\n      <td>Eredivisie</td>\n      <td>2007</td>\n      <td>2007/2008</td>\n    </tr>\n    <tr>\n      <th>4</th>\n      <td></td>\n      <td>PSV Eindhoven</td>\n      <td>Kenneth Pérez</td>\n      <td>32.0</td>\n      <td>Centre-Forward</td>\n      <td>Ajax</td>\n      <td>£900k</td>\n      <td>in</td>\n      <td>0.90</td>\n      <td>Eredivisie</td>\n      <td>2007</td>\n      <td>2007/2008</td>\n    </tr>\n  </tbody>\n</table>\n</div>"
          },
          "metadata": {}
        }
      ]
    },
    {
      "metadata": {
        "trusted": true
      },
      "cell_type": "code",
      "source": "forward_list = ['Centre-Forward', 'Second Striker', 'Left Winger', 'Right Winger', 'Forward']\nmidfield_list = ['Defensive Midfield', 'Attacking Midfield', 'Right Midfield', 'Left Midfield', 'Central Midfield', 'Midfielder']\ndefender_list = ['Goalkeeper', 'Left-Back', 'Centre-Back', 'Right-Back', 'Defender']",
      "execution_count": 16,
      "outputs": []
    },
    {
      "metadata": {
        "trusted": true
      },
      "cell_type": "code",
      "source": "transfers_in.loc[transfers_in.position.isin(forward_list), 'position'] = 'Forward'\ntransfers_in.loc[transfers_in.position.isin(midfield_list), 'position'] = 'Midfielder'\ntransfers_in.loc[transfers_in.position.isin(defender_list), 'position'] = 'Defender'\n\ntransfers_out.loc[transfers_out.position.isin(forward_list), 'position'] = 'Forward'\ntransfers_out.loc[transfers_out.position.isin(midfield_list), 'position'] = 'Midfielder'\ntransfers_out.loc[transfers_out.position.isin(defender_list), 'position'] = 'Defender'",
      "execution_count": 17,
      "outputs": [
        {
          "output_type": "stream",
          "text": "/home/nbuser/anaconda3_420/lib/python3.5/site-packages/pandas/core/indexing.py:477: SettingWithCopyWarning: \nA value is trying to be set on a copy of a slice from a DataFrame.\nTry using .loc[row_indexer,col_indexer] = value instead\n\nSee the caveats in the documentation: http://pandas.pydata.org/pandas-docs/stable/indexing.html#indexing-view-versus-copy\n  self.obj[item] = s\n",
          "name": "stderr"
        }
      ]
    },
    {
      "metadata": {
        "trusted": true
      },
      "cell_type": "code",
      "source": "",
      "execution_count": null,
      "outputs": []
    },
    {
      "metadata": {
        "trusted": true,
        "scrolled": true
      },
      "cell_type": "code",
      "source": "#money spent per club per year, avg age players bought per year\ntransfers_in_by_year = transfers_in.groupby(['club_name', 'club_api_id', 'year']).agg({'fee_cleaned_millions':'sum', 'age':'mean'})\ntransfers_in_by_year = transfers_in_by_year.rename(columns={'fee_cleaned_millions':'total_spent_millions', 'age':'average_age'})\ntransfers_in_by_year = transfers_in_by_year.reset_index(level=['club_api_id','year'])\n\ntransfers_out_by_year = transfers_out.groupby(['club_name', 'club_api_id', 'year']).agg({'fee_cleaned_millions':'sum', 'age':'mean'})\ntransfers_out_by_year = transfers_out_by_year.rename(columns={'fee_cleaned_millions':'total_sales_millions', 'age':'average_age'})\ntransfers_out_by_year = transfers_out_by_year.reset_index(level=['club_api_id','year'])\n\ntransfers_out_by_year.head()",
      "execution_count": 19,
      "outputs": [
        {
          "output_type": "execute_result",
          "execution_count": 19,
          "data": {
            "text/plain": "           club_api_id  year  total_sales_millions  average_age\nclub_name                                                      \n1. FC Köln              2008                 0.675    25.769231\n1. FC Köln              2009                 0.810    26.666667\n1. FC Köln              2010                 0.045    25.000000\n1. FC Köln              2011                 2.585    23.285714\n1. FC Köln              2014                 0.090    23.533333",
            "text/html": "<div>\n<table border=\"1\" class=\"dataframe\">\n  <thead>\n    <tr style=\"text-align: right;\">\n      <th></th>\n      <th>club_api_id</th>\n      <th>year</th>\n      <th>total_sales_millions</th>\n      <th>average_age</th>\n    </tr>\n    <tr>\n      <th>club_name</th>\n      <th></th>\n      <th></th>\n      <th></th>\n      <th></th>\n    </tr>\n  </thead>\n  <tbody>\n    <tr>\n      <th>1. FC Köln</th>\n      <td></td>\n      <td>2008</td>\n      <td>0.675</td>\n      <td>25.769231</td>\n    </tr>\n    <tr>\n      <th>1. FC Köln</th>\n      <td></td>\n      <td>2009</td>\n      <td>0.810</td>\n      <td>26.666667</td>\n    </tr>\n    <tr>\n      <th>1. FC Köln</th>\n      <td></td>\n      <td>2010</td>\n      <td>0.045</td>\n      <td>25.000000</td>\n    </tr>\n    <tr>\n      <th>1. FC Köln</th>\n      <td></td>\n      <td>2011</td>\n      <td>2.585</td>\n      <td>23.285714</td>\n    </tr>\n    <tr>\n      <th>1. FC Köln</th>\n      <td></td>\n      <td>2014</td>\n      <td>0.090</td>\n      <td>23.533333</td>\n    </tr>\n  </tbody>\n</table>\n</div>"
          },
          "metadata": {}
        }
      ]
    },
    {
      "metadata": {
        "trusted": true
      },
      "cell_type": "code",
      "source": "in_df_list = []\nfor name, df in transfers_in_by_year.groupby(level='club_name'):\n    df.insert(0, 'team_name_test', '')\n    if name in list(team_df.team_long_name):\n        df.loc[name, 'club_api_id'] = team_df.set_index('team_long_name').loc[name,'team_api_id']\n        df.loc[name, 'team_name_test'] = name\n    else:\n        for team in list(team_df.team_long_name):\n            if fuzz.partial_ratio(name, team) >= 77:\n                df.loc[name, 'club_api_id'] = team_df.set_index('team_long_name').loc[team,'team_api_id']\n                df.loc[name, 'team_name_test'] = team\n                break\n    in_df_list.append(df)",
      "execution_count": 20,
      "outputs": [
        {
          "output_type": "stream",
          "text": "/home/nbuser/anaconda3_420/lib/python3.5/site-packages/pandas/core/indexing.py:477: SettingWithCopyWarning: \nA value is trying to be set on a copy of a slice from a DataFrame.\nTry using .loc[row_indexer,col_indexer] = value instead\n\nSee the caveats in the documentation: http://pandas.pydata.org/pandas-docs/stable/indexing.html#indexing-view-versus-copy\n  self.obj[item] = s\n",
          "name": "stderr"
        }
      ]
    },
    {
      "metadata": {
        "trusted": true
      },
      "cell_type": "code",
      "source": "#verify all clubs without an id do not have match data\ntransfers_in_by_year = pd.concat(in_df_list)\ntransfers_in_by_year[transfers_in_by_year.club_api_id=='']",
      "execution_count": 21,
      "outputs": [
        {
          "output_type": "execute_result",
          "execution_count": 21,
          "data": {
            "text/plain": "                     team_name_test club_api_id  year  total_spent_millions  \\\nclub_name                                                                     \nCD Leganés                                       2016                 3.195   \nDeportivo Alavés                                 2016                 5.695   \nDerby County                                     2007                20.413   \nFC Crotone                                       2016                 5.310   \nFC Hansa Rostock                                 2007                 0.630   \nGD Chaves                                        2016                 0.045   \nMSV Duisburg                                     2007                 3.600   \nRB Leipzig                                       2016                70.610   \nRC Strasbourg Alsace                             2007                 1.215   \nReal Murcia CF                                   2007                 8.757   \n\n                      average_age  \nclub_name                          \nCD Leganés              25.318182  \nDeportivo Alavés        24.105263  \nDerby County            26.000000  \nFC Crotone              22.729730  \nFC Hansa Rostock        23.916667  \nGD Chaves               24.906250  \nMSV Duisburg            25.722222  \nRB Leipzig              21.583333  \nRC Strasbourg Alsace    23.227273  \nReal Murcia CF          25.400000  ",
            "text/html": "<div>\n<table border=\"1\" class=\"dataframe\">\n  <thead>\n    <tr style=\"text-align: right;\">\n      <th></th>\n      <th>team_name_test</th>\n      <th>club_api_id</th>\n      <th>year</th>\n      <th>total_spent_millions</th>\n      <th>average_age</th>\n    </tr>\n    <tr>\n      <th>club_name</th>\n      <th></th>\n      <th></th>\n      <th></th>\n      <th></th>\n      <th></th>\n    </tr>\n  </thead>\n  <tbody>\n    <tr>\n      <th>CD Leganés</th>\n      <td></td>\n      <td></td>\n      <td>2016</td>\n      <td>3.195</td>\n      <td>25.318182</td>\n    </tr>\n    <tr>\n      <th>Deportivo Alavés</th>\n      <td></td>\n      <td></td>\n      <td>2016</td>\n      <td>5.695</td>\n      <td>24.105263</td>\n    </tr>\n    <tr>\n      <th>Derby County</th>\n      <td></td>\n      <td></td>\n      <td>2007</td>\n      <td>20.413</td>\n      <td>26.000000</td>\n    </tr>\n    <tr>\n      <th>FC Crotone</th>\n      <td></td>\n      <td></td>\n      <td>2016</td>\n      <td>5.310</td>\n      <td>22.729730</td>\n    </tr>\n    <tr>\n      <th>FC Hansa Rostock</th>\n      <td></td>\n      <td></td>\n      <td>2007</td>\n      <td>0.630</td>\n      <td>23.916667</td>\n    </tr>\n    <tr>\n      <th>GD Chaves</th>\n      <td></td>\n      <td></td>\n      <td>2016</td>\n      <td>0.045</td>\n      <td>24.906250</td>\n    </tr>\n    <tr>\n      <th>MSV Duisburg</th>\n      <td></td>\n      <td></td>\n      <td>2007</td>\n      <td>3.600</td>\n      <td>25.722222</td>\n    </tr>\n    <tr>\n      <th>RB Leipzig</th>\n      <td></td>\n      <td></td>\n      <td>2016</td>\n      <td>70.610</td>\n      <td>21.583333</td>\n    </tr>\n    <tr>\n      <th>RC Strasbourg Alsace</th>\n      <td></td>\n      <td></td>\n      <td>2007</td>\n      <td>1.215</td>\n      <td>23.227273</td>\n    </tr>\n    <tr>\n      <th>Real Murcia CF</th>\n      <td></td>\n      <td></td>\n      <td>2007</td>\n      <td>8.757</td>\n      <td>25.400000</td>\n    </tr>\n  </tbody>\n</table>\n</div>"
          },
          "metadata": {}
        }
      ]
    },
    {
      "metadata": {
        "trusted": true
      },
      "cell_type": "code",
      "source": "#manually check to ensure code worked for all imperfectly matched names\nfor df in in_df_list:\n    if df.index[0] != df['team_name_test'].tolist()[0]:\n        print('Club Name: ', df.index[0]+'\\n', 'Test Name:', df['team_name_test'].tolist()[0]+'\\n')",
      "execution_count": 22,
      "outputs": [
        {
          "output_type": "stream",
          "text": "Club Name:  1.FC Kaiserslautern\n Test Name: 1. FC Kaiserslautern\n\nClub Name:  1.FC Nuremberg\n Test Name: 1. FC Nürnberg\n\nClub Name:  AC Cesena\n Test Name: Cesena\n\nClub Name:  AS Livorno\n Test Name: Livorno\n\nClub Name:  Académica Coimbra\n Test Name: Académica de Coimbra\n\nClub Name:  Arminia Bielefeld\n Test Name: DSC Arminia Bielefeld\n\nClub Name:  Belenenses SAD\n Test Name: CF Os Belenenses\n\nClub Name:  Blackpool FC\n Test Name: Blackpool\n\nClub Name:  Brescia Calcio\n Test Name: Brescia\n\nClub Name:  CD Feirense\n Test Name: Feirense\n\nClub Name:  CD Leganés\n Test Name: \n\nClub Name:  CD Tondela\n Test Name: Tondela\n\nClub Name:  CD Trofense\n Test Name: Trofense\n\nClub Name:  CF Estrela Amadora\n Test Name: Amadora\n\nClub Name:  Celta de Vigo\n Test Name: RC Celta de Vigo\n\nClub Name:  De Graafschap Doetinchem\n Test Name: De Graafschap\n\nClub Name:  Delfino Pescara 1936\n Test Name: Pescara\n\nClub Name:  Deportivo Alavés\n Test Name: \n\nClub Name:  Deportivo de La Coruña\n Test Name: RC Deportivo de La Coruña\n\nClub Name:  Derby County\n Test Name: \n\nClub Name:  EA Guingamp\n Test Name: En Avant de Guingamp\n\nClub Name:  FC Crotone\n Test Name: \n\nClub Name:  FC Empoli\n Test Name: Empoli\n\nClub Name:  FC Hansa Rostock\n Test Name: \n\nClub Name:  FC Évian Thonon Gaillard\n Test Name: Évian Thonon Gaillard FC\n\nClub Name:  GD Chaves\n Test Name: \n\nClub Name:  Go Ahead Eagles Deventer\n Test Name: Go Ahead Eagles\n\nClub Name:  Hércules CF\n Test Name: Hércules Club de Fútbol\n\nClub Name:  Le Mans Union Club 72\n Test Name: Le Mans FC\n\nClub Name:  MSV Duisburg\n Test Name: \n\nClub Name:  Naval 1º de Maio\n Test Name: Naval 1° de Maio\n\nClub Name:  Portimonense SC\n Test Name: Portimonense\n\nClub Name:  RB Leipzig\n Test Name: \n\nClub Name:  RC Strasbourg Alsace\n Test Name: \n\nClub Name:  Reading FC\n Test Name: Reading\n\nClub Name:  Real Murcia CF\n Test Name: \n\nClub Name:  Real Valladolid CF\n Test Name: Real Valladolid\n\nClub Name:  Recreativo Huelva\n Test Name: RC Recreativo\n\nClub Name:  SC Cambuur-Leeuwarden\n Test Name: SC Cambuur\n\nClub Name:  SC Olhanense\n Test Name: S.C. Olhanense\n\nClub Name:  Stade Brest 29\n Test Name: Stade Brestois 29\n\nClub Name:  US Boulogne\n Test Name: US Boulogne Cote D'Opale\n\nClub Name:  US Lecce\n Test Name: Lecce\n\nClub Name:  União de Leiria\n Test Name: União de Leiria, SAD\n\nClub Name:  Vitesse Arnhem\n Test Name: Vitesse\n\nClub Name:  Vitória Guimarães SC\n Test Name: Vitória Guimarães\n\nClub Name:  Vitória Setúbal FC\n Test Name: Vitória Setúbal\n\nClub Name:  Willem II Tilburg\n Test Name: Willem II\n\nClub Name:  Xerez CD\n Test Name: Xerez Club Deportivo\n\n",
          "name": "stdout"
        }
      ]
    },
    {
      "metadata": {
        "trusted": true
      },
      "cell_type": "code",
      "source": "#code worked for transfers_in_by_year, do the same for transfers_out_by_year\nout_df_list = []\nfor name, df in transfers_out_by_year.groupby(level='club_name'):\n    df.insert(0, 'team_name_test', '')\n    if name in list(team_df.team_long_name):\n        df.loc[name, 'club_api_id'] = team_df.set_index('team_long_name').loc[name,'team_api_id']\n        df.loc[name, 'team_name_test'] = name\n    else:\n        for team in list(team_df.team_long_name):\n            if fuzz.partial_ratio(name, team) >= 77:\n                df.loc[name, 'club_api_id'] = team_df.set_index('team_long_name').loc[team,'team_api_id']\n                df.loc[name, 'team_name_test'] = team\n                break\n    out_df_list.append(df)\n\ntransfers_out_by_year = pd.concat(out_df_list)",
      "execution_count": 25,
      "outputs": [
        {
          "output_type": "stream",
          "text": "/home/nbuser/anaconda3_420/lib/python3.5/site-packages/pandas/core/indexing.py:477: SettingWithCopyWarning: \nA value is trying to be set on a copy of a slice from a DataFrame.\nTry using .loc[row_indexer,col_indexer] = value instead\n\nSee the caveats in the documentation: http://pandas.pydata.org/pandas-docs/stable/indexing.html#indexing-view-versus-copy\n  self.obj[item] = s\n",
          "name": "stderr"
        }
      ]
    },
    {
      "metadata": {
        "scrolled": false,
        "trusted": true
      },
      "cell_type": "code",
      "source": "#total spent/sold by club between 2007-2016\ntotal_spent = transfers_in_by_year.groupby(level=0).agg({'average_age':'mean', 'total_spent_millions':'sum'}).sort_values('total_spent_millions', ascending=False)\ntotal_sold = transfers_out_by_year.groupby(level=0).agg({'average_age':'mean', 'total_sales_millions':'sum'}).sort_values('total_sales_millions', ascending=False)\n\n#top 100 spending clubs during period of interest\ntop_100_spenders = total_spent.head(100)\n\ntop_100_spenders",
      "execution_count": 28,
      "outputs": [
        {
          "output_type": "execute_result",
          "execution_count": 28,
          "data": {
            "text/plain": "                        total_spent_millions  average_age\nclub_name                                                \nManchester City                     1210.796    23.008789\nReal Madrid                          955.530    23.400574\nManchester United                    861.925    21.367788\nChelsea FC                           844.670    21.630092\nFC Barcelona                         798.460    23.328096\nLiverpool FC                         769.633    22.010123\nJuventus FC                          766.091    22.538188\nParis Saint-Germain                  674.640    23.554886\nTottenham Hotspur                    640.060    22.069570\nInter Milan                          625.187    22.273936\nAtlético Madrid                      563.015    23.582581\nBayern Munich                        524.430    23.011694\nAS Roma                              514.810    22.625716\nSSC Napoli                           481.866    24.122377\nArsenal FC                           481.821    21.752255\nVfL Wolfsburg                        421.170    23.985616\nAC Milan                             407.658    23.332703\nValencia CF                          382.033    24.262280\nSunderland AFC                       363.319    24.139271\nAS Monaco                            357.535    22.832439\nSL Benfica                           336.404    22.810636\nGenoa CFC                            334.933    23.318488\nFC Porto                             312.918    23.406625\nBorussia Dortmund                    303.978    22.918624\nSevilla FC                           294.260    24.695467\nEverton FC                           290.923    22.843972\nWest Ham United                      287.409    23.850627\nACF Fiorentina                       285.521    22.950688\nAston Villa                          281.720    23.298856\nOlympique Lyon                       277.016    22.355978\n...                                      ...          ...\nCagliari Calcio                       87.675    22.803802\nPortsmouth FC                         87.666    23.137559\nAFC Bournemouth                       86.230    23.471217\nWigan Athletic                        85.279    23.254164\n1.FSV Mainz 05                        79.980    23.645721\nReal Sociedad                         73.170    23.860963\nBolton Wanderers                      71.156    22.846540\nRB Leipzig                            70.610    21.583333\nBirmingham City                       67.470    23.009926\nAZ Alkmaar                            65.973    22.324971\nHannover 96                           65.255    23.273553\nBurnley FC                            64.585    22.980089\nGetafe CF                             63.828    24.367077\nFC Toulouse                           63.710    22.724205\nFC Lorient                            62.930    22.902658\nAC Siena                              62.765    23.603150\nFC Twente Enschede                    62.640    22.816876\nRCD Espanyol Barcelona                61.295    24.108238\nOGC Nice                              56.390    23.287490\nChievo Verona                         56.000    23.761301\n1. FC Köln                            54.597    23.066912\nReal Zaragoza                         54.315    25.568816\nFC Augsburg                           53.934    23.885302\nHertha BSC                            53.519    23.652127\nCalcio Catania                        53.218    24.057252\nBlackburn Rovers                      51.089    21.950316\nEintracht Frankfurt                   50.136    23.328917\nGranada CF                            49.228    24.321748\nAthletic Bilbao                       47.763    24.030523\nFeyenoord Rotterdam                   46.665    22.791334\n\n[100 rows x 2 columns]",
            "text/html": "<div>\n<table border=\"1\" class=\"dataframe\">\n  <thead>\n    <tr style=\"text-align: right;\">\n      <th></th>\n      <th>total_spent_millions</th>\n      <th>average_age</th>\n    </tr>\n    <tr>\n      <th>club_name</th>\n      <th></th>\n      <th></th>\n    </tr>\n  </thead>\n  <tbody>\n    <tr>\n      <th>Manchester City</th>\n      <td>1210.796</td>\n      <td>23.008789</td>\n    </tr>\n    <tr>\n      <th>Real Madrid</th>\n      <td>955.530</td>\n      <td>23.400574</td>\n    </tr>\n    <tr>\n      <th>Manchester United</th>\n      <td>861.925</td>\n      <td>21.367788</td>\n    </tr>\n    <tr>\n      <th>Chelsea FC</th>\n      <td>844.670</td>\n      <td>21.630092</td>\n    </tr>\n    <tr>\n      <th>FC Barcelona</th>\n      <td>798.460</td>\n      <td>23.328096</td>\n    </tr>\n    <tr>\n      <th>Liverpool FC</th>\n      <td>769.633</td>\n      <td>22.010123</td>\n    </tr>\n    <tr>\n      <th>Juventus FC</th>\n      <td>766.091</td>\n      <td>22.538188</td>\n    </tr>\n    <tr>\n      <th>Paris Saint-Germain</th>\n      <td>674.640</td>\n      <td>23.554886</td>\n    </tr>\n    <tr>\n      <th>Tottenham Hotspur</th>\n      <td>640.060</td>\n      <td>22.069570</td>\n    </tr>\n    <tr>\n      <th>Inter Milan</th>\n      <td>625.187</td>\n      <td>22.273936</td>\n    </tr>\n    <tr>\n      <th>Atlético Madrid</th>\n      <td>563.015</td>\n      <td>23.582581</td>\n    </tr>\n    <tr>\n      <th>Bayern Munich</th>\n      <td>524.430</td>\n      <td>23.011694</td>\n    </tr>\n    <tr>\n      <th>AS Roma</th>\n      <td>514.810</td>\n      <td>22.625716</td>\n    </tr>\n    <tr>\n      <th>SSC Napoli</th>\n      <td>481.866</td>\n      <td>24.122377</td>\n    </tr>\n    <tr>\n      <th>Arsenal FC</th>\n      <td>481.821</td>\n      <td>21.752255</td>\n    </tr>\n    <tr>\n      <th>VfL Wolfsburg</th>\n      <td>421.170</td>\n      <td>23.985616</td>\n    </tr>\n    <tr>\n      <th>AC Milan</th>\n      <td>407.658</td>\n      <td>23.332703</td>\n    </tr>\n    <tr>\n      <th>Valencia CF</th>\n      <td>382.033</td>\n      <td>24.262280</td>\n    </tr>\n    <tr>\n      <th>Sunderland AFC</th>\n      <td>363.319</td>\n      <td>24.139271</td>\n    </tr>\n    <tr>\n      <th>AS Monaco</th>\n      <td>357.535</td>\n      <td>22.832439</td>\n    </tr>\n    <tr>\n      <th>SL Benfica</th>\n      <td>336.404</td>\n      <td>22.810636</td>\n    </tr>\n    <tr>\n      <th>Genoa CFC</th>\n      <td>334.933</td>\n      <td>23.318488</td>\n    </tr>\n    <tr>\n      <th>FC Porto</th>\n      <td>312.918</td>\n      <td>23.406625</td>\n    </tr>\n    <tr>\n      <th>Borussia Dortmund</th>\n      <td>303.978</td>\n      <td>22.918624</td>\n    </tr>\n    <tr>\n      <th>Sevilla FC</th>\n      <td>294.260</td>\n      <td>24.695467</td>\n    </tr>\n    <tr>\n      <th>Everton FC</th>\n      <td>290.923</td>\n      <td>22.843972</td>\n    </tr>\n    <tr>\n      <th>West Ham United</th>\n      <td>287.409</td>\n      <td>23.850627</td>\n    </tr>\n    <tr>\n      <th>ACF Fiorentina</th>\n      <td>285.521</td>\n      <td>22.950688</td>\n    </tr>\n    <tr>\n      <th>Aston Villa</th>\n      <td>281.720</td>\n      <td>23.298856</td>\n    </tr>\n    <tr>\n      <th>Olympique Lyon</th>\n      <td>277.016</td>\n      <td>22.355978</td>\n    </tr>\n    <tr>\n      <th>...</th>\n      <td>...</td>\n      <td>...</td>\n    </tr>\n    <tr>\n      <th>Cagliari Calcio</th>\n      <td>87.675</td>\n      <td>22.803802</td>\n    </tr>\n    <tr>\n      <th>Portsmouth FC</th>\n      <td>87.666</td>\n      <td>23.137559</td>\n    </tr>\n    <tr>\n      <th>AFC Bournemouth</th>\n      <td>86.230</td>\n      <td>23.471217</td>\n    </tr>\n    <tr>\n      <th>Wigan Athletic</th>\n      <td>85.279</td>\n      <td>23.254164</td>\n    </tr>\n    <tr>\n      <th>1.FSV Mainz 05</th>\n      <td>79.980</td>\n      <td>23.645721</td>\n    </tr>\n    <tr>\n      <th>Real Sociedad</th>\n      <td>73.170</td>\n      <td>23.860963</td>\n    </tr>\n    <tr>\n      <th>Bolton Wanderers</th>\n      <td>71.156</td>\n      <td>22.846540</td>\n    </tr>\n    <tr>\n      <th>RB Leipzig</th>\n      <td>70.610</td>\n      <td>21.583333</td>\n    </tr>\n    <tr>\n      <th>Birmingham City</th>\n      <td>67.470</td>\n      <td>23.009926</td>\n    </tr>\n    <tr>\n      <th>AZ Alkmaar</th>\n      <td>65.973</td>\n      <td>22.324971</td>\n    </tr>\n    <tr>\n      <th>Hannover 96</th>\n      <td>65.255</td>\n      <td>23.273553</td>\n    </tr>\n    <tr>\n      <th>Burnley FC</th>\n      <td>64.585</td>\n      <td>22.980089</td>\n    </tr>\n    <tr>\n      <th>Getafe CF</th>\n      <td>63.828</td>\n      <td>24.367077</td>\n    </tr>\n    <tr>\n      <th>FC Toulouse</th>\n      <td>63.710</td>\n      <td>22.724205</td>\n    </tr>\n    <tr>\n      <th>FC Lorient</th>\n      <td>62.930</td>\n      <td>22.902658</td>\n    </tr>\n    <tr>\n      <th>AC Siena</th>\n      <td>62.765</td>\n      <td>23.603150</td>\n    </tr>\n    <tr>\n      <th>FC Twente Enschede</th>\n      <td>62.640</td>\n      <td>22.816876</td>\n    </tr>\n    <tr>\n      <th>RCD Espanyol Barcelona</th>\n      <td>61.295</td>\n      <td>24.108238</td>\n    </tr>\n    <tr>\n      <th>OGC Nice</th>\n      <td>56.390</td>\n      <td>23.287490</td>\n    </tr>\n    <tr>\n      <th>Chievo Verona</th>\n      <td>56.000</td>\n      <td>23.761301</td>\n    </tr>\n    <tr>\n      <th>1. FC Köln</th>\n      <td>54.597</td>\n      <td>23.066912</td>\n    </tr>\n    <tr>\n      <th>Real Zaragoza</th>\n      <td>54.315</td>\n      <td>25.568816</td>\n    </tr>\n    <tr>\n      <th>FC Augsburg</th>\n      <td>53.934</td>\n      <td>23.885302</td>\n    </tr>\n    <tr>\n      <th>Hertha BSC</th>\n      <td>53.519</td>\n      <td>23.652127</td>\n    </tr>\n    <tr>\n      <th>Calcio Catania</th>\n      <td>53.218</td>\n      <td>24.057252</td>\n    </tr>\n    <tr>\n      <th>Blackburn Rovers</th>\n      <td>51.089</td>\n      <td>21.950316</td>\n    </tr>\n    <tr>\n      <th>Eintracht Frankfurt</th>\n      <td>50.136</td>\n      <td>23.328917</td>\n    </tr>\n    <tr>\n      <th>Granada CF</th>\n      <td>49.228</td>\n      <td>24.321748</td>\n    </tr>\n    <tr>\n      <th>Athletic Bilbao</th>\n      <td>47.763</td>\n      <td>24.030523</td>\n    </tr>\n    <tr>\n      <th>Feyenoord Rotterdam</th>\n      <td>46.665</td>\n      <td>22.791334</td>\n    </tr>\n  </tbody>\n</table>\n<p>100 rows × 2 columns</p>\n</div>"
          },
          "metadata": {}
        }
      ]
    },
    {
      "metadata": {
        "scrolled": true,
        "trusted": true
      },
      "cell_type": "code",
      "source": "",
      "execution_count": null,
      "outputs": []
    }
  ],
  "metadata": {
    "kernelspec": {
      "name": "python3",
      "display_name": "Python 3",
      "language": "python"
    },
    "language_info": {
      "mimetype": "text/x-python",
      "nbconvert_exporter": "python",
      "name": "python",
      "pygments_lexer": "ipython3",
      "version": "3.5.4",
      "file_extension": ".py",
      "codemirror_mode": {
        "version": 3,
        "name": "ipython"
      }
    }
  },
  "nbformat": 4,
  "nbformat_minor": 2
}