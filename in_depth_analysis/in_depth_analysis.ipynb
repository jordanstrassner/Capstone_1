{
 "cells": [
  {
   "cell_type": "code",
   "execution_count": 17,
   "metadata": {},
   "outputs": [],
   "source": [
    "import numpy as np\n",
    "import matplotlib.pyplot as plt\n",
    "import pandas as pd\n",
    "from sklearn.model_selection import train_test_split\n",
    "from sklearn.linear_model import Lasso \n",
    "from sklearn.ensemble import RandomForestRegressor\n",
    "from sklearn.metrics import mean_squared_error, r2_score\n",
    "%matplotlib inline"
   ]
  },
  {
   "cell_type": "code",
   "execution_count": 2,
   "metadata": {},
   "outputs": [
    {
     "data": {
      "text/html": [
       "<div>\n",
       "<style scoped>\n",
       "    .dataframe tbody tr th:only-of-type {\n",
       "        vertical-align: middle;\n",
       "    }\n",
       "\n",
       "    .dataframe tbody tr th {\n",
       "        vertical-align: top;\n",
       "    }\n",
       "\n",
       "    .dataframe thead th {\n",
       "        text-align: right;\n",
       "    }\n",
       "</style>\n",
       "<table border=\"1\" class=\"dataframe\">\n",
       "  <thead>\n",
       "    <tr style=\"text-align: right;\">\n",
       "      <th></th>\n",
       "      <th>club_api_id</th>\n",
       "      <th>club_name</th>\n",
       "      <th>year</th>\n",
       "      <th>league_name</th>\n",
       "      <th>average_age</th>\n",
       "      <th>total_spent</th>\n",
       "      <th>nTransfers</th>\n",
       "      <th>Fifteen_TwentyTwo</th>\n",
       "      <th>TwentyThree_TwentyNine</th>\n",
       "      <th>Thirty_Plus</th>\n",
       "      <th>...</th>\n",
       "      <th>Midfielder</th>\n",
       "      <th>league_position</th>\n",
       "      <th>position_value</th>\n",
       "      <th>win_pct</th>\n",
       "      <th>goals_for</th>\n",
       "      <th>goals_against</th>\n",
       "      <th>goal_difference</th>\n",
       "      <th>three_year_spending</th>\n",
       "      <th>two_year_spending</th>\n",
       "      <th>pos_val_pct_change</th>\n",
       "    </tr>\n",
       "  </thead>\n",
       "  <tbody>\n",
       "    <tr>\n",
       "      <td>0</td>\n",
       "      <td>6403</td>\n",
       "      <td>FC Paços de Ferreira</td>\n",
       "      <td>2008</td>\n",
       "      <td>Liga Nos</td>\n",
       "      <td>24.962798</td>\n",
       "      <td>0.005456</td>\n",
       "      <td>23</td>\n",
       "      <td>0.000596</td>\n",
       "      <td>0.004860</td>\n",
       "      <td>0.0</td>\n",
       "      <td>...</td>\n",
       "      <td>0.001811</td>\n",
       "      <td>10.0</td>\n",
       "      <td>55.0</td>\n",
       "      <td>0.300000</td>\n",
       "      <td>37.0</td>\n",
       "      <td>42.0</td>\n",
       "      <td>-5.0</td>\n",
       "      <td>NaN</td>\n",
       "      <td>NaN</td>\n",
       "      <td>NaN</td>\n",
       "    </tr>\n",
       "    <tr>\n",
       "      <td>1</td>\n",
       "      <td>6403</td>\n",
       "      <td>FC Paços de Ferreira</td>\n",
       "      <td>2009</td>\n",
       "      <td>Liga Nos</td>\n",
       "      <td>22.744444</td>\n",
       "      <td>0.004837</td>\n",
       "      <td>27</td>\n",
       "      <td>0.001192</td>\n",
       "      <td>0.003645</td>\n",
       "      <td>0.0</td>\n",
       "      <td>...</td>\n",
       "      <td>0.001215</td>\n",
       "      <td>9.0</td>\n",
       "      <td>60.0</td>\n",
       "      <td>0.266667</td>\n",
       "      <td>32.0</td>\n",
       "      <td>37.0</td>\n",
       "      <td>-5.0</td>\n",
       "      <td>NaN</td>\n",
       "      <td>0.010293</td>\n",
       "      <td>9.090909</td>\n",
       "    </tr>\n",
       "    <tr>\n",
       "      <td>2</td>\n",
       "      <td>6403</td>\n",
       "      <td>FC Paços de Ferreira</td>\n",
       "      <td>2010</td>\n",
       "      <td>Liga Nos</td>\n",
       "      <td>23.708333</td>\n",
       "      <td>0.060811</td>\n",
       "      <td>19</td>\n",
       "      <td>0.059596</td>\n",
       "      <td>0.001215</td>\n",
       "      <td>0.0</td>\n",
       "      <td>...</td>\n",
       "      <td>0.000000</td>\n",
       "      <td>7.0</td>\n",
       "      <td>70.0</td>\n",
       "      <td>0.333333</td>\n",
       "      <td>35.0</td>\n",
       "      <td>42.0</td>\n",
       "      <td>-7.0</td>\n",
       "      <td>0.071104</td>\n",
       "      <td>0.065648</td>\n",
       "      <td>16.666667</td>\n",
       "    </tr>\n",
       "    <tr>\n",
       "      <td>3</td>\n",
       "      <td>6403</td>\n",
       "      <td>FC Paços de Ferreira</td>\n",
       "      <td>2011</td>\n",
       "      <td>Liga Nos</td>\n",
       "      <td>23.792007</td>\n",
       "      <td>0.014558</td>\n",
       "      <td>35</td>\n",
       "      <td>0.001192</td>\n",
       "      <td>0.013366</td>\n",
       "      <td>0.0</td>\n",
       "      <td>...</td>\n",
       "      <td>0.002430</td>\n",
       "      <td>10.0</td>\n",
       "      <td>55.0</td>\n",
       "      <td>0.266667</td>\n",
       "      <td>35.0</td>\n",
       "      <td>53.0</td>\n",
       "      <td>-18.0</td>\n",
       "      <td>0.080206</td>\n",
       "      <td>0.075369</td>\n",
       "      <td>-21.428571</td>\n",
       "    </tr>\n",
       "    <tr>\n",
       "      <td>4</td>\n",
       "      <td>6403</td>\n",
       "      <td>FC Paços de Ferreira</td>\n",
       "      <td>2012</td>\n",
       "      <td>Liga Nos</td>\n",
       "      <td>22.206349</td>\n",
       "      <td>0.004814</td>\n",
       "      <td>26</td>\n",
       "      <td>0.002384</td>\n",
       "      <td>0.002430</td>\n",
       "      <td>0.0</td>\n",
       "      <td>...</td>\n",
       "      <td>0.001788</td>\n",
       "      <td>3.0</td>\n",
       "      <td>90.0</td>\n",
       "      <td>0.466667</td>\n",
       "      <td>42.0</td>\n",
       "      <td>29.0</td>\n",
       "      <td>13.0</td>\n",
       "      <td>0.080182</td>\n",
       "      <td>0.019371</td>\n",
       "      <td>63.636364</td>\n",
       "    </tr>\n",
       "  </tbody>\n",
       "</table>\n",
       "<p>5 rows × 22 columns</p>\n",
       "</div>"
      ],
      "text/plain": [
       "   club_api_id             club_name  year league_name  average_age  \\\n",
       "0         6403  FC Paços de Ferreira  2008    Liga Nos    24.962798   \n",
       "1         6403  FC Paços de Ferreira  2009    Liga Nos    22.744444   \n",
       "2         6403  FC Paços de Ferreira  2010    Liga Nos    23.708333   \n",
       "3         6403  FC Paços de Ferreira  2011    Liga Nos    23.792007   \n",
       "4         6403  FC Paços de Ferreira  2012    Liga Nos    22.206349   \n",
       "\n",
       "   total_spent  nTransfers  Fifteen_TwentyTwo  TwentyThree_TwentyNine  \\\n",
       "0     0.005456          23           0.000596                0.004860   \n",
       "1     0.004837          27           0.001192                0.003645   \n",
       "2     0.060811          19           0.059596                0.001215   \n",
       "3     0.014558          35           0.001192                0.013366   \n",
       "4     0.004814          26           0.002384                0.002430   \n",
       "\n",
       "   Thirty_Plus  ...  Midfielder  league_position  position_value   win_pct  \\\n",
       "0          0.0  ...    0.001811             10.0            55.0  0.300000   \n",
       "1          0.0  ...    0.001215              9.0            60.0  0.266667   \n",
       "2          0.0  ...    0.000000              7.0            70.0  0.333333   \n",
       "3          0.0  ...    0.002430             10.0            55.0  0.266667   \n",
       "4          0.0  ...    0.001788              3.0            90.0  0.466667   \n",
       "\n",
       "   goals_for  goals_against  goal_difference  three_year_spending  \\\n",
       "0       37.0           42.0             -5.0                  NaN   \n",
       "1       32.0           37.0             -5.0                  NaN   \n",
       "2       35.0           42.0             -7.0             0.071104   \n",
       "3       35.0           53.0            -18.0             0.080206   \n",
       "4       42.0           29.0             13.0             0.080182   \n",
       "\n",
       "   two_year_spending  pos_val_pct_change  \n",
       "0                NaN                 NaN  \n",
       "1           0.010293            9.090909  \n",
       "2           0.065648           16.666667  \n",
       "3           0.075369          -21.428571  \n",
       "4           0.019371           63.636364  \n",
       "\n",
       "[5 rows x 22 columns]"
      ]
     },
     "execution_count": 2,
     "metadata": {},
     "output_type": "execute_result"
    }
   ],
   "source": [
    "transfer_stats_df = pd.read_csv('transfer_stats.csv', index_col=0)\n",
    "transfer_stats_df.head()"
   ]
  },
  {
   "cell_type": "code",
   "execution_count": 12,
   "metadata": {},
   "outputs": [],
   "source": [
    "X = transfer_stats_df.drop(['club_api_id', 'club_name', 'league_name', 'league_position', 'position_value', 'three_year_spending', 'two_year_spending', 'pos_val_pct_change'], axis=1)\n",
    "y = transfer_stats_df.position_value"
   ]
  },
  {
   "cell_type": "code",
   "execution_count": 13,
   "metadata": {},
   "outputs": [],
   "source": [
    "X_train, X_test, y_train, y_test = train_test_split(X, y, test_size=0.25, random_state=1)"
   ]
  },
  {
   "cell_type": "code",
   "execution_count": 14,
   "metadata": {},
   "outputs": [
    {
     "name": "stdout",
     "output_type": "stream",
     "text": [
      "[-0.        -0.         0.        -0.         0.         0.\n",
      "  0.         0.         0.         0.        70.0677539  0.\n",
      " -0.         0.       ]\n",
      "0.5984259629459794\n"
     ]
    }
   ],
   "source": [
    "lasso = Lasso(alpha=.4, normalize=True)\n",
    "lasso.fit(X_train, y_train)\n",
    "lasso_coef = lasso.coef_\n",
    "print(lasso_coef)\n",
    "print(lasso.score(X_test, y_test))"
   ]
  },
  {
   "cell_type": "code",
   "execution_count": 15,
   "metadata": {},
   "outputs": [
    {
     "data": {
      "image/png": "[encoded data removed]",
      "text/plain": [
       "<Figure size 432x288 with 1 Axes>"
      ]
     },
     "metadata": {
      "needs_background": "light"
     },
     "output_type": "display_data"
    }
   ],
   "source": [
    "_ = plt.plot(range(len(X_test.columns)), lasso_coef)\n",
    "_ = plt.xticks(range(len(X_test.columns)), X_test.columns, rotation=90)"
   ]
  },
  {
   "cell_type": "code",
   "execution_count": 19,
   "metadata": {},
   "outputs": [
    {
     "name": "stdout",
     "output_type": "stream",
     "text": [
      "13.545695642180936\n"
     ]
    }
   ],
   "source": [
    "y_pred = lasso.predict(X_test)\n",
    "rmse_lasso = np.sqrt(mean_squared_error(y_test, y_pred))\n",
    "print(rmse_lasso)"
   ]
  },
  {
   "cell_type": "code",
   "execution_count": 20,
   "metadata": {
    "scrolled": true
   },
   "outputs": [
    {
     "data": {
      "text/plain": [
       "0.5984259629459794"
      ]
     },
     "execution_count": 20,
     "metadata": {},
     "output_type": "execute_result"
    }
   ],
   "source": [
    "r2_score(y_test, y_pred)"
   ]
  },
  {
   "cell_type": "code",
   "execution_count": null,
   "metadata": {},
   "outputs": [],
   "source": []
  },
  {
   "cell_type": "code",
   "execution_count": 21,
   "metadata": {},
   "outputs": [
    {
     "name": "stdout",
     "output_type": "stream",
     "text": [
      "0.8568872811733741\n",
      "8.08644461082037\n"
     ]
    }
   ],
   "source": [
    "regressor = RandomForestRegressor(random_state=0, n_estimators=200, max_depth=None, max_features=10, \n",
    "                                  min_samples_leaf=1, min_samples_split=5, bootstrap=False)\n",
    "regressor.fit(X_train, y_train)\n",
    "print(regressor.score(X_test, y_test))\n",
    "\n",
    "y_pred = regressor.predict(X_test)\n",
    "rmse_forest = np.sqrt(mean_squared_error(y_test, y_pred))\n",
    "print(rmse_forest)"
   ]
  },
  {
   "cell_type": "code",
   "execution_count": 22,
   "metadata": {},
   "outputs": [
    {
     "name": "stdout",
     "output_type": "stream",
     "text": [
      "0.8568872811733741\n"
     ]
    }
   ],
   "source": [
    "print(r2_score(y_test, y_pred))"
   ]
  },
  {
   "cell_type": "code",
   "execution_count": 24,
   "metadata": {},
   "outputs": [
    {
     "data": {
      "text/plain": [
       "array([0.00447413, 0.0071437 , 0.00349905, 0.0063493 , 0.00608003,\n",
       "       0.00401323, 0.00209906, 0.0060995 , 0.00783149, 0.00795698,\n",
       "       0.65104287, 0.0105095 , 0.04154156, 0.2413596 ])"
      ]
     },
     "execution_count": 24,
     "metadata": {},
     "output_type": "execute_result"
    }
   ],
   "source": [
    "regressor.feature_importances_"
   ]
  },
  {
   "cell_type": "code",
   "execution_count": 26,
   "metadata": {},
   "outputs": [
    {
     "data": {
      "text/plain": [
       "Index(['year', 'average_age', 'total_spent', 'nTransfers', 'Fifteen_TwentyTwo',\n",
       "       'TwentyThree_TwentyNine', 'Thirty_Plus', 'Defender', 'Forward',\n",
       "       'Midfielder', 'win_pct', 'goals_for', 'goals_against',\n",
       "       'goal_difference'],\n",
       "      dtype='object')"
      ]
     },
     "execution_count": 26,
     "metadata": {},
     "output_type": "execute_result"
    }
   ],
   "source": [
    "X_train.columns"
   ]
  },
  {
   "cell_type": "code",
   "execution_count": 28,
   "metadata": {},
   "outputs": [
    {
     "data": {
      "text/html": [
       "<div>\n",
       "<style scoped>\n",
       "    .dataframe tbody tr th:only-of-type {\n",
       "        vertical-align: middle;\n",
       "    }\n",
       "\n",
       "    .dataframe tbody tr th {\n",
       "        vertical-align: top;\n",
       "    }\n",
       "\n",
       "    .dataframe thead th {\n",
       "        text-align: right;\n",
       "    }\n",
       "</style>\n",
       "<table border=\"1\" class=\"dataframe\">\n",
       "  <thead>\n",
       "    <tr style=\"text-align: right;\">\n",
       "      <th></th>\n",
       "      <th>importance</th>\n",
       "    </tr>\n",
       "  </thead>\n",
       "  <tbody>\n",
       "    <tr>\n",
       "      <td>win_pct</td>\n",
       "      <td>0.651043</td>\n",
       "    </tr>\n",
       "    <tr>\n",
       "      <td>goal_difference</td>\n",
       "      <td>0.241360</td>\n",
       "    </tr>\n",
       "    <tr>\n",
       "      <td>goals_against</td>\n",
       "      <td>0.041542</td>\n",
       "    </tr>\n",
       "    <tr>\n",
       "      <td>goals_for</td>\n",
       "      <td>0.010509</td>\n",
       "    </tr>\n",
       "    <tr>\n",
       "      <td>Midfielder</td>\n",
       "      <td>0.007957</td>\n",
       "    </tr>\n",
       "    <tr>\n",
       "      <td>Forward</td>\n",
       "      <td>0.007831</td>\n",
       "    </tr>\n",
       "    <tr>\n",
       "      <td>average_age</td>\n",
       "      <td>0.007144</td>\n",
       "    </tr>\n",
       "    <tr>\n",
       "      <td>nTransfers</td>\n",
       "      <td>0.006349</td>\n",
       "    </tr>\n",
       "    <tr>\n",
       "      <td>Defender</td>\n",
       "      <td>0.006100</td>\n",
       "    </tr>\n",
       "    <tr>\n",
       "      <td>Fifteen_TwentyTwo</td>\n",
       "      <td>0.006080</td>\n",
       "    </tr>\n",
       "    <tr>\n",
       "      <td>year</td>\n",
       "      <td>0.004474</td>\n",
       "    </tr>\n",
       "    <tr>\n",
       "      <td>TwentyThree_TwentyNine</td>\n",
       "      <td>0.004013</td>\n",
       "    </tr>\n",
       "    <tr>\n",
       "      <td>total_spent</td>\n",
       "      <td>0.003499</td>\n",
       "    </tr>\n",
       "    <tr>\n",
       "      <td>Thirty_Plus</td>\n",
       "      <td>0.002099</td>\n",
       "    </tr>\n",
       "  </tbody>\n",
       "</table>\n",
       "</div>"
      ],
      "text/plain": [
       "                        importance\n",
       "win_pct                   0.651043\n",
       "goal_difference           0.241360\n",
       "goals_against             0.041542\n",
       "goals_for                 0.010509\n",
       "Midfielder                0.007957\n",
       "Forward                   0.007831\n",
       "average_age               0.007144\n",
       "nTransfers                0.006349\n",
       "Defender                  0.006100\n",
       "Fifteen_TwentyTwo         0.006080\n",
       "year                      0.004474\n",
       "TwentyThree_TwentyNine    0.004013\n",
       "total_spent               0.003499\n",
       "Thirty_Plus               0.002099"
      ]
     },
     "execution_count": 28,
     "metadata": {},
     "output_type": "execute_result"
    }
   ],
   "source": [
    "feature_importances = pd.DataFrame(regressor.feature_importances_,\n",
    "                                   index = X_train.columns,\n",
    "                                    columns=['importance']).sort_values('importance', ascending=False)\n",
    "feature_importances"
   ]
  }
 ],
 "metadata": {
  "kernelspec": {
   "display_name": "Python 3",
   "language": "python",
   "name": "python3"
  },
  "language_info": {
   "codemirror_mode": {
    "name": "ipython",
    "version": 3
   },
   "file_extension": ".py",
   "mimetype": "text/x-python",
   "name": "python",
   "nbconvert_exporter": "python",
   "pygments_lexer": "ipython3",
   "version": "3.7.4"
  }
 },
 "nbformat": 4,
 "nbformat_minor": 2
}
